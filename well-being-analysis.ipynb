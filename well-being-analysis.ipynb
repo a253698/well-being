{
 "cells": [
  {
   "cell_type": "code",
   "execution_count": null,
   "id": "102604ee",
   "metadata": {},
   "outputs": [],
   "source": [
    "#! pip install xlrd\n",
    "\n",
    "import pandas as pd\n",
    "\n",
    "df_numeric_data = pd.read_excel('Rad Onc Medical Physics Well-being Survey_June 3, 2022_13.16.xlsx', sheet_name='data_modified')\n",
    "\n",
    "#print(df_numeric_data)\n",
    "df_numeric_data.columns"
   ]
  },
  {
   "cell_type": "code",
   "execution_count": null,
   "id": "85b8dcd6",
   "metadata": {},
   "outputs": [],
   "source": [
    "column_to_drop = ['StartDate', 'EndDate', 'Status', 'Progress', 'Duration (in seconds)',\n",
    "       'Finished', 'RecordedDate', 'ResponseId', 'DistributionChannel',\n",
    "       'UserLanguage', 'Q1']\n",
    "\n",
    "df_numeric_data = df_numeric_data.drop(columns=column_to_drop)\n"
   ]
  },
  {
   "cell_type": "code",
   "execution_count": null,
   "id": "056c95fb",
   "metadata": {},
   "outputs": [],
   "source": [
    "df_numeric_data = df_numeric_data.replace('Not at all','1')\n",
    "df_numeric_data = df_numeric_data.replace('Low','2')\n",
    "df_numeric_data = df_numeric_data.replace('Moderate','3')\n",
    "df_numeric_data = df_numeric_data.replace('High','4')\n",
    "df_numeric_data = df_numeric_data.replace('Extremely High','5')\n",
    "\n",
    "df_numeric_data = df_numeric_data.replace('Not an issue','1')\n",
    "df_numeric_data = df_numeric_data.replace('Low Priority','2')\n",
    "df_numeric_data = df_numeric_data.replace('Medium Priority','3')\n",
    "df_numeric_data = df_numeric_data.replace('High Priority','4')\n",
    "\n",
    "df_numeric_data = df_numeric_data.replace('Not true at all','1')\n",
    "df_numeric_data = df_numeric_data.replace('Rarely true','2')\n",
    "df_numeric_data = df_numeric_data.replace('Sometimes true','3')\n",
    "df_numeric_data = df_numeric_data.replace('Often true','4')\n",
    "df_numeric_data = df_numeric_data.replace('Always true','5')\n",
    "\n",
    "df_numeric_data = df_numeric_data.replace('A few times a year or less','1')\n",
    "df_numeric_data = df_numeric_data.replace('Once a month or less','2')\n",
    "df_numeric_data = df_numeric_data.replace('A few times a month','3')\n",
    "df_numeric_data = df_numeric_data.replace('Once a week','4')\n",
    "df_numeric_data = df_numeric_data.replace('A few times a week','5')\n",
    "df_numeric_data = df_numeric_data.replace('Everyday','6')"
   ]
  },
  {
   "cell_type": "code",
   "execution_count": null,
   "id": "1ea0eabd",
   "metadata": {},
   "outputs": [],
   "source": [
    "df_numeric_data"
   ]
  },
  {
   "cell_type": "code",
   "execution_count": null,
   "id": "1f7a1615",
   "metadata": {},
   "outputs": [],
   "source": [
    "column_to_drop = ['Q6', 'Q7', 'Q10', 'Q11', 'Q11_6_TEXT', 'Q12', 'Q12_7_TEXT', 'Q13',\n",
    "       'Q13_6_TEXT']\n",
    "\n",
    "df_numeric_data_2 = df_numeric_data.drop(columns=column_to_drop)"
   ]
  },
  {
   "cell_type": "code",
   "execution_count": null,
   "id": "0125379d",
   "metadata": {},
   "outputs": [],
   "source": [
    "print(df_numeric_data_2.columns.tolist())"
   ]
  },
  {
   "cell_type": "code",
   "execution_count": null,
   "id": "30e70e6b",
   "metadata": {},
   "outputs": [],
   "source": [
    "pd.set_option('display.max_columns', None)\n",
    "pd.set_option('display.max_rows', None)\n",
    "\n",
    "print(df_numeric_data_2.columns.tolist())"
   ]
  },
  {
   "cell_type": "code",
   "execution_count": null,
   "id": "5d0cde5e",
   "metadata": {},
   "outputs": [],
   "source": [
    "# df_numeric_data.to_excel('numeric_data.xlsx', sheet_name='numeric_data')\n",
    "#Q19\n",
    "selected_columns = df_numeric_data_2[['Q19#1_1', 'Q19#1_2', 'Q19#1_3', 'Q19#1_4', 'Q19#1_5', 'Q19#1_6', 'Q19#1_7', 'Q19#1_8', 'Q19#1_9', 'Q19#1_10', 'Q19#1_11', 'Q19#1_12', 'Q19#1_13', 'Q19#1_14', 'Q19#1_15', 'Q19#1_16', 'Q19#1_17', 'Q19#1_18', 'Q19#1_19', 'Q19#1_20']]\n",
    "df_numeric_data_3 = selected_columns.copy()"
   ]
  },
  {
   "cell_type": "code",
   "execution_count": null,
   "id": "53c3eb61",
   "metadata": {},
   "outputs": [],
   "source": [
    "#convert dataTpye from string to int\n",
    "df_numeric_data_3 = df_numeric_data_3.astype('float')\n",
    "df_numeric_data_3 = df_numeric_data_3.astype('Int64')"
   ]
  },
  {
   "cell_type": "code",
   "execution_count": null,
   "id": "b25557a9",
   "metadata": {},
   "outputs": [],
   "source": [
    "#count mean\n",
    "Q19_mean = df_numeric_data_3.mean(skipna=True) #.sort_values(ascending=True)\n",
    "workplace_stressors = Q19_mean.to_frame(name=\"mean\")\n",
    "workplace_stressors"
   ]
  },
  {
   "cell_type": "code",
   "execution_count": null,
   "id": "666bc3d5",
   "metadata": {},
   "outputs": [],
   "source": [
    "#count range\n",
    "Q19_range = df_numeric_data_3.max(skipna=True) - df_numeric_data_3.min(skipna=True) \n",
    "workplace_stressors['range'] = Q19_range\n",
    "workplace_stressors\n"
   ]
  },
  {
   "cell_type": "code",
   "execution_count": null,
   "id": "c4c9319a",
   "metadata": {},
   "outputs": [],
   "source": [
    "#count standard_deviation\n",
    "Q19_std = df_numeric_data_3.std(skipna=True) \n",
    "workplace_stressors['standard_deviation'] = Q19_std\n",
    "workplace_stressors"
   ]
  },
  {
   "cell_type": "code",
   "execution_count": null,
   "id": "f4c6744f",
   "metadata": {
    "scrolled": true
   },
   "outputs": [],
   "source": [
    "#count variance\n",
    "Q19_var = df_numeric_data_3.var(skipna=True) \n",
    "workplace_stressors['variance'] = Q19_var\n",
    "workplace_stressors\n"
   ]
  },
  {
   "cell_type": "code",
   "execution_count": null,
   "id": "7d7442db",
   "metadata": {},
   "outputs": [],
   "source": [
    "workplace_stressors"
   ]
  },
  {
   "cell_type": "code",
   "execution_count": 366,
   "id": "f2da64ae",
   "metadata": {},
   "outputs": [
    {
     "data": {
      "text/html": [
       "<div>\n",
       "<style scoped>\n",
       "    .dataframe tbody tr th:only-of-type {\n",
       "        vertical-align: middle;\n",
       "    }\n",
       "\n",
       "    .dataframe tbody tr th {\n",
       "        vertical-align: top;\n",
       "    }\n",
       "\n",
       "    .dataframe thead th {\n",
       "        text-align: right;\n",
       "    }\n",
       "</style>\n",
       "<table border=\"1\" class=\"dataframe\">\n",
       "  <thead>\n",
       "    <tr style=\"text-align: right;\">\n",
       "      <th></th>\n",
       "      <th>question_id</th>\n",
       "      <th>question</th>\n",
       "    </tr>\n",
       "  </thead>\n",
       "  <tbody>\n",
       "    <tr>\n",
       "      <th>0</th>\n",
       "      <td>Q19#1_1</td>\n",
       "      <td>Excessive workload</td>\n",
       "    </tr>\n",
       "    <tr>\n",
       "      <th>1</th>\n",
       "      <td>Q19#1_2</td>\n",
       "      <td>Unmanageable work schedules</td>\n",
       "    </tr>\n",
       "    <tr>\n",
       "      <th>2</th>\n",
       "      <td>Q19#1_3</td>\n",
       "      <td>Time Pressure</td>\n",
       "    </tr>\n",
       "    <tr>\n",
       "      <th>3</th>\n",
       "      <td>Q19#1_4</td>\n",
       "      <td>Inadequate staffing</td>\n",
       "    </tr>\n",
       "    <tr>\n",
       "      <th>4</th>\n",
       "      <td>Q19#1_5</td>\n",
       "      <td>Inefficient Workflows</td>\n",
       "    </tr>\n",
       "    <tr>\n",
       "      <th>5</th>\n",
       "      <td>Q19#1_6</td>\n",
       "      <td>Interruptions &amp; Distractions</td>\n",
       "    </tr>\n",
       "    <tr>\n",
       "      <th>6</th>\n",
       "      <td>Q19#1_7</td>\n",
       "      <td>Inadequate Technology Implementation</td>\n",
       "    </tr>\n",
       "    <tr>\n",
       "      <th>7</th>\n",
       "      <td>Q19#1_8</td>\n",
       "      <td>Moral Distress</td>\n",
       "    </tr>\n",
       "    <tr>\n",
       "      <th>8</th>\n",
       "      <td>Q19#1_9</td>\n",
       "      <td>Patient Factors</td>\n",
       "    </tr>\n",
       "    <tr>\n",
       "      <th>9</th>\n",
       "      <td>Q19#1_10</td>\n",
       "      <td>Lack of recognition for Quality Improvement ac...</td>\n",
       "    </tr>\n",
       "    <tr>\n",
       "      <th>10</th>\n",
       "      <td>Q19#1_11</td>\n",
       "      <td>Lack of dedicated time for Professional Develo...</td>\n",
       "    </tr>\n",
       "    <tr>\n",
       "      <th>11</th>\n",
       "      <td>Q19#1_12</td>\n",
       "      <td>Administrative burden</td>\n",
       "    </tr>\n",
       "    <tr>\n",
       "      <th>12</th>\n",
       "      <td>Q19#1_13</td>\n",
       "      <td>Lack of support for Research and Teaching</td>\n",
       "    </tr>\n",
       "    <tr>\n",
       "      <th>13</th>\n",
       "      <td>Q19#1_14</td>\n",
       "      <td>Professional Relationships</td>\n",
       "    </tr>\n",
       "    <tr>\n",
       "      <th>14</th>\n",
       "      <td>Q19#1_15</td>\n",
       "      <td>Organizational Culture</td>\n",
       "    </tr>\n",
       "    <tr>\n",
       "      <th>15</th>\n",
       "      <td>Q19#1_16</td>\n",
       "      <td>Physical Work Environment</td>\n",
       "    </tr>\n",
       "    <tr>\n",
       "      <th>16</th>\n",
       "      <td>Q19#1_17</td>\n",
       "      <td>Values and Expectations Alignment</td>\n",
       "    </tr>\n",
       "    <tr>\n",
       "      <th>17</th>\n",
       "      <td>Q19#1_18</td>\n",
       "      <td>Job Control (Flexibility and Autonomy)</td>\n",
       "    </tr>\n",
       "    <tr>\n",
       "      <th>18</th>\n",
       "      <td>Q19#1_19</td>\n",
       "      <td>Intrinsic Motivations and Rewards</td>\n",
       "    </tr>\n",
       "    <tr>\n",
       "      <th>19</th>\n",
       "      <td>Q19#1_20</td>\n",
       "      <td>Extrinsic Motivations and Rewards</td>\n",
       "    </tr>\n",
       "  </tbody>\n",
       "</table>\n",
       "</div>"
      ],
      "text/plain": [
       "   question_id                                           question\n",
       "0      Q19#1_1                                 Excessive workload\n",
       "1      Q19#1_2                        Unmanageable work schedules\n",
       "2      Q19#1_3                                      Time Pressure\n",
       "3      Q19#1_4                                Inadequate staffing\n",
       "4      Q19#1_5                              Inefficient Workflows\n",
       "5      Q19#1_6                       Interruptions & Distractions\n",
       "6      Q19#1_7               Inadequate Technology Implementation\n",
       "7      Q19#1_8                                     Moral Distress\n",
       "8      Q19#1_9                                    Patient Factors\n",
       "9     Q19#1_10  Lack of recognition for Quality Improvement ac...\n",
       "10    Q19#1_11  Lack of dedicated time for Professional Develo...\n",
       "11    Q19#1_12                              Administrative burden\n",
       "12    Q19#1_13          Lack of support for Research and Teaching\n",
       "13    Q19#1_14                         Professional Relationships\n",
       "14    Q19#1_15                             Organizational Culture\n",
       "15    Q19#1_16                          Physical Work Environment\n",
       "16    Q19#1_17                  Values and Expectations Alignment\n",
       "17    Q19#1_18             Job Control (Flexibility and Autonomy)\n",
       "18    Q19#1_19                  Intrinsic Motivations and Rewards\n",
       "19    Q19#1_20                  Extrinsic Motivations and Rewards"
      ]
     },
     "execution_count": 366,
     "metadata": {},
     "output_type": "execute_result"
    }
   ],
   "source": [
    "#read Q19 workplace stressors\n",
    "df_Q19_question = pd.read_excel('Rad Onc Medical Physics Well-being Survey_June 3, 2022_13.16.xlsx', sheet_name='Q19#1')\n",
    "df_Q19_question"
   ]
  },
  {
   "cell_type": "code",
   "execution_count": null,
   "id": "c8364879",
   "metadata": {},
   "outputs": [],
   "source": [
    "#join question\n",
    "workplace_stressors_analysis = pd.merge(workplace_stressors, df_Q19_question,  left_index=True, right_on='question_id')\n",
    "\n",
    "#reorder columns\n",
    "workplace_stressors_analysis = workplace_stressors_analysis[['question_id', 'question', 'mean', 'range', 'standard_deviation', 'variance']]\n",
    "workplace_stressors_analysis"
   ]
  },
  {
   "cell_type": "code",
   "execution_count": null,
   "id": "1b10fe9e",
   "metadata": {},
   "outputs": [],
   "source": [
    "#export to excel\n",
    "# workplace_stressors_analysis.to_excel('workplace_stressors_analysis.xlsx', sheet_name='workplace_stressors_analysis')"
   ]
  },
  {
   "cell_type": "code",
   "execution_count": 365,
   "id": "73d28e9c",
   "metadata": {},
   "outputs": [
    {
     "data": {
      "text/html": [
       "<div>\n",
       "<style scoped>\n",
       "    .dataframe tbody tr th:only-of-type {\n",
       "        vertical-align: middle;\n",
       "    }\n",
       "\n",
       "    .dataframe tbody tr th {\n",
       "        vertical-align: top;\n",
       "    }\n",
       "\n",
       "    .dataframe thead th {\n",
       "        text-align: right;\n",
       "    }\n",
       "</style>\n",
       "<table border=\"1\" class=\"dataframe\">\n",
       "  <thead>\n",
       "    <tr style=\"text-align: right;\">\n",
       "      <th></th>\n",
       "      <th>question_id</th>\n",
       "      <th>question</th>\n",
       "      <th>mean</th>\n",
       "      <th>range</th>\n",
       "      <th>standard_deviation</th>\n",
       "      <th>variance</th>\n",
       "    </tr>\n",
       "  </thead>\n",
       "  <tbody>\n",
       "    <tr>\n",
       "      <th>3</th>\n",
       "      <td>Q19#1_4</td>\n",
       "      <td>Inadequate staffing</td>\n",
       "      <td>3.125</td>\n",
       "      <td>4</td>\n",
       "      <td>1.246423</td>\n",
       "      <td>1.553571</td>\n",
       "    </tr>\n",
       "    <tr>\n",
       "      <th>0</th>\n",
       "      <td>Q19#1_1</td>\n",
       "      <td>Excessive workload</td>\n",
       "      <td>2.875</td>\n",
       "      <td>3</td>\n",
       "      <td>1.125992</td>\n",
       "      <td>1.267857</td>\n",
       "    </tr>\n",
       "    <tr>\n",
       "      <th>2</th>\n",
       "      <td>Q19#1_3</td>\n",
       "      <td>Time Pressure</td>\n",
       "      <td>2.625</td>\n",
       "      <td>4</td>\n",
       "      <td>1.187735</td>\n",
       "      <td>1.410714</td>\n",
       "    </tr>\n",
       "    <tr>\n",
       "      <th>4</th>\n",
       "      <td>Q19#1_5</td>\n",
       "      <td>Inefficient Workflows</td>\n",
       "      <td>2.500</td>\n",
       "      <td>3</td>\n",
       "      <td>1.069045</td>\n",
       "      <td>1.142857</td>\n",
       "    </tr>\n",
       "    <tr>\n",
       "      <th>10</th>\n",
       "      <td>Q19#1_11</td>\n",
       "      <td>Lack of dedicated time for Professional Develo...</td>\n",
       "      <td>2.500</td>\n",
       "      <td>3</td>\n",
       "      <td>0.925820</td>\n",
       "      <td>0.857143</td>\n",
       "    </tr>\n",
       "    <tr>\n",
       "      <th>12</th>\n",
       "      <td>Q19#1_13</td>\n",
       "      <td>Lack of support for Research and Teaching</td>\n",
       "      <td>2.500</td>\n",
       "      <td>3</td>\n",
       "      <td>1.195229</td>\n",
       "      <td>1.428571</td>\n",
       "    </tr>\n",
       "    <tr>\n",
       "      <th>1</th>\n",
       "      <td>Q19#1_2</td>\n",
       "      <td>Unmanageable work schedules</td>\n",
       "      <td>2.375</td>\n",
       "      <td>3</td>\n",
       "      <td>1.187735</td>\n",
       "      <td>1.410714</td>\n",
       "    </tr>\n",
       "  </tbody>\n",
       "</table>\n",
       "</div>"
      ],
      "text/plain": [
       "   question_id                                           question   mean  \\\n",
       "3      Q19#1_4                                Inadequate staffing  3.125   \n",
       "0      Q19#1_1                                 Excessive workload  2.875   \n",
       "2      Q19#1_3                                      Time Pressure  2.625   \n",
       "4      Q19#1_5                              Inefficient Workflows  2.500   \n",
       "10    Q19#1_11  Lack of dedicated time for Professional Develo...  2.500   \n",
       "12    Q19#1_13          Lack of support for Research and Teaching  2.500   \n",
       "1      Q19#1_2                        Unmanageable work schedules  2.375   \n",
       "\n",
       "    range  standard_deviation  variance  \n",
       "3       4            1.246423  1.553571  \n",
       "0       3            1.125992  1.267857  \n",
       "2       4            1.187735  1.410714  \n",
       "4       3            1.069045  1.142857  \n",
       "10      3            0.925820  0.857143  \n",
       "12      3            1.195229  1.428571  \n",
       "1       3            1.187735  1.410714  "
      ]
     },
     "execution_count": 365,
     "metadata": {},
     "output_type": "execute_result"
    }
   ],
   "source": [
    "#select top 7 stressors\n",
    "workplace_stressors_top_7 = workplace_stressors_analysis.nlargest(7, ['mean'])\n",
    "workplace_stressors_top_7"
   ]
  },
  {
   "cell_type": "code",
   "execution_count": 363,
   "id": "e482cc88",
   "metadata": {},
   "outputs": [
    {
     "data": {
      "image/png": "[encoded data removed]",
      "text/plain": [
       "<Figure size 1152x648 with 1 Axes>"
      ]
     },
     "metadata": {
      "needs_background": "light"
     },
     "output_type": "display_data"
    }
   ],
   "source": [
    "#visualized to bar chart\n",
    "import matplotlib.pyplot as plt\n",
    "from matplotlib.cm import ScalarMappable\n",
    "\n",
    "plt.rcParams.update({'font.size':20})\n",
    "\n",
    "\n",
    "data_normalized = [x / max(workplace_stressors_top_7['mean']) for x in workplace_stressors_top_7['mean']]\n",
    "\n",
    "\n",
    "my_cmap = plt.cm.get_cmap('YlGnBu')\n",
    "colors = my_cmap(data_normalized)\n",
    "\n",
    "\n",
    "fig, ax = plt.subplots(figsize =(16, 9))\n",
    "\n",
    "Question = workplace_stressors_top_7['question']\n",
    "Mean = workplace_stressors_top_7['mean']\n",
    "\n",
    "max_val = workplace_stressors_top_7['mean'].max()\n",
    "\n",
    "col = []\n",
    "for val in Mean:\n",
    "    if val == max_val:\n",
    "        col.append('red')\n",
    "    else:\n",
    "        col.append('gray')\n",
    "\n",
    "ax.barh(Question, Mean, color = col)\n",
    "\n",
    "# Add padding between axes and labels\n",
    "ax.xaxis.set_tick_params(pad = 5)\n",
    "ax.yaxis.set_tick_params(pad = 10)\n",
    "\n",
    "# Add x, y gridlines\n",
    "ax.grid(b = True, color ='grey',\n",
    "        linestyle ='-.', linewidth = 0.5,\n",
    "        alpha = 0.2)\n",
    " \n",
    "# Show top values\n",
    "ax.invert_yaxis()\n",
    " \n",
    "# Add annotation to bars\n",
    "for i in ax.patches:\n",
    "    plt.text(i.get_width()+0.2, i.get_y()+0.5,\n",
    "             str(round((i.get_width()), 2)),\n",
    "             fontsize = 20, fontweight ='bold',\n",
    "             color ='grey')\n",
    " \n",
    "# Add Plot Title\n",
    "ax.set_title('Priority For Improvement',\n",
    "             loc ='left',fontsize = 20, )\n",
    " \n",
    "# Add Text watermark\n",
    "fig.text(0.9, 0.15, '', fontsize = 20,\n",
    "         color ='grey', ha ='right', va ='bottom',\n",
    "         alpha = 0.7)\n",
    "\n",
    " \n",
    "# Show Plot\n",
    "plt.show()"
   ]
  },
  {
   "cell_type": "code",
   "execution_count": null,
   "id": "e86ec2f1",
   "metadata": {},
   "outputs": [],
   "source": [
    "#Q20 priority for improvement\n",
    "selected_columns_2 = df_numeric_data_2[['Q20#1_1', 'Q20#1_2', 'Q20#1_3', 'Q20#1_4', 'Q20#1_5', 'Q20#1_6', 'Q20#1_7', 'Q20#1_8', 'Q20#1_9', 'Q20#1_10', 'Q20#1_11', 'Q20#1_12', 'Q20#1_13', 'Q20#1_14', 'Q20#1_15', 'Q20#1_16', 'Q20#1_17', 'Q20#1_18', 'Q20#1_19', 'Q20#1_20', 'Q20#1_21',]]\n",
    "df_numeric_data_4 = selected_columns_2.copy()\n",
    "df_numeric_data_4"
   ]
  },
  {
   "cell_type": "code",
   "execution_count": null,
   "id": "89346e15",
   "metadata": {},
   "outputs": [],
   "source": [
    "#convert dataTpye from string to int\n",
    "df_numeric_data_4 = df_numeric_data_4.astype('float')\n",
    "df_numeric_data_4 = df_numeric_data_4.astype('Int64')\n",
    "df_numeric_data_4"
   ]
  },
  {
   "cell_type": "code",
   "execution_count": null,
   "id": "ab7f567e",
   "metadata": {},
   "outputs": [],
   "source": [
    "#count mean\n",
    "Q20_mean = df_numeric_data_4.mean(skipna=True) #.sort_values(ascending=True)\n",
    "priority_for_improvement = Q20_mean.to_frame(name=\"mean\")\n",
    "priority_for_improvement"
   ]
  },
  {
   "cell_type": "code",
   "execution_count": null,
   "id": "87987b64",
   "metadata": {},
   "outputs": [],
   "source": [
    "#count range\n",
    "Q20_range = df_numeric_data_4.max(skipna=True) - df_numeric_data_4.min(skipna=True) \n",
    "priority_for_improvement['range'] = Q20_range\n",
    "priority_for_improvement\n",
    "\n"
   ]
  },
  {
   "cell_type": "code",
   "execution_count": null,
   "id": "714a6fcf",
   "metadata": {},
   "outputs": [],
   "source": [
    "#count standard_deviation\n",
    "Q20_std = df_numeric_data_4.std(skipna=True) \n",
    "priority_for_improvement['standard_deviation'] = Q20_std\n",
    "priority_for_improvement"
   ]
  },
  {
   "cell_type": "code",
   "execution_count": null,
   "id": "09671b8e",
   "metadata": {},
   "outputs": [],
   "source": [
    "#count variance\n",
    "Q20_var = df_numeric_data_4.var(skipna=True) \n",
    "priority_for_improvement['variance'] = Q20_var\n",
    "priority_for_improvement"
   ]
  },
  {
   "cell_type": "code",
   "execution_count": null,
   "id": "a0cbbaef",
   "metadata": {},
   "outputs": [],
   "source": [
    "#read Q20 priority_for_improvement\n",
    "Qdf_20_question = pd.read_excel('Rad Onc Medical Physics Well-being Survey_June 3, 2022_13.16.xlsx', sheet_name='Q20#1')\n",
    "Qdf_20_question"
   ]
  },
  {
   "cell_type": "code",
   "execution_count": null,
   "id": "79debf6d",
   "metadata": {},
   "outputs": [],
   "source": [
    "#join question\n",
    "priority_for_improvement_analysis = pd.merge(priority_for_improvement, df_Q20_question,  left_index=True, right_on='question_id')\n",
    "\n",
    "#reorder columns\n",
    "priority_for_improvement_analysis = priority_for_improvement_analysis[['question_id', 'question', 'mean', 'range', 'standard_deviation', 'variance']]\n",
    "priority_for_improvement_analysis"
   ]
  },
  {
   "cell_type": "code",
   "execution_count": null,
   "id": "1ae891cf",
   "metadata": {},
   "outputs": [],
   "source": [
    "#export to excel\n",
    "#priority_for_improvement_analysis.to_excel('priority_analysis.xlsx', sheet_name='priority_analysis')"
   ]
  },
  {
   "cell_type": "code",
   "execution_count": 367,
   "id": "30d957f6",
   "metadata": {},
   "outputs": [
    {
     "data": {
      "text/html": [
       "<div>\n",
       "<style scoped>\n",
       "    .dataframe tbody tr th:only-of-type {\n",
       "        vertical-align: middle;\n",
       "    }\n",
       "\n",
       "    .dataframe tbody tr th {\n",
       "        vertical-align: top;\n",
       "    }\n",
       "\n",
       "    .dataframe thead th {\n",
       "        text-align: right;\n",
       "    }\n",
       "</style>\n",
       "<table border=\"1\" class=\"dataframe\">\n",
       "  <thead>\n",
       "    <tr style=\"text-align: right;\">\n",
       "      <th></th>\n",
       "      <th>question_id</th>\n",
       "      <th>question</th>\n",
       "      <th>mean</th>\n",
       "      <th>range</th>\n",
       "      <th>standard_deviation</th>\n",
       "      <th>variance</th>\n",
       "    </tr>\n",
       "  </thead>\n",
       "  <tbody>\n",
       "    <tr>\n",
       "      <th>3</th>\n",
       "      <td>Q20#1_4</td>\n",
       "      <td>Inadequate staffing</td>\n",
       "      <td>3.500000</td>\n",
       "      <td>1</td>\n",
       "      <td>0.547723</td>\n",
       "      <td>0.300000</td>\n",
       "    </tr>\n",
       "    <tr>\n",
       "      <th>0</th>\n",
       "      <td>Q20#1_1</td>\n",
       "      <td>Excessive workload</td>\n",
       "      <td>3.166667</td>\n",
       "      <td>1</td>\n",
       "      <td>0.408248</td>\n",
       "      <td>0.166667</td>\n",
       "    </tr>\n",
       "    <tr>\n",
       "      <th>1</th>\n",
       "      <td>Q20#1_2</td>\n",
       "      <td>Unmanageable work schedules</td>\n",
       "      <td>2.857143</td>\n",
       "      <td>2</td>\n",
       "      <td>0.690066</td>\n",
       "      <td>0.476190</td>\n",
       "    </tr>\n",
       "    <tr>\n",
       "      <th>20</th>\n",
       "      <td>Q20#1_21</td>\n",
       "      <td>Work-life Integration</td>\n",
       "      <td>2.833333</td>\n",
       "      <td>2</td>\n",
       "      <td>0.752773</td>\n",
       "      <td>0.566667</td>\n",
       "    </tr>\n",
       "  </tbody>\n",
       "</table>\n",
       "</div>"
      ],
      "text/plain": [
       "   question_id                     question      mean  range  \\\n",
       "3      Q20#1_4          Inadequate staffing  3.500000      1   \n",
       "0      Q20#1_1           Excessive workload  3.166667      1   \n",
       "1      Q20#1_2  Unmanageable work schedules  2.857143      2   \n",
       "20    Q20#1_21        Work-life Integration  2.833333      2   \n",
       "\n",
       "    standard_deviation  variance  \n",
       "3             0.547723  0.300000  \n",
       "0             0.408248  0.166667  \n",
       "1             0.690066  0.476190  \n",
       "20            0.752773  0.566667  "
      ]
     },
     "execution_count": 367,
     "metadata": {},
     "output_type": "execute_result"
    }
   ],
   "source": [
    "#select top 7 improvement priority\n",
    "improvement_priority_top_4 = priority_for_improvement_analysis.nlargest(4, ['mean'])\n",
    "improvement_priority_top_4"
   ]
  },
  {
   "cell_type": "code",
   "execution_count": 368,
   "id": "41b2c711",
   "metadata": {},
   "outputs": [
    {
     "data": {
      "image/png": "[encoded data removed]",
      "text/plain": [
       "<Figure size 1152x648 with 1 Axes>"
      ]
     },
     "metadata": {
      "needs_background": "light"
     },
     "output_type": "display_data"
    }
   ],
   "source": [
    "#visualized to bar chart\n",
    "import matplotlib.pyplot as plt\n",
    "from matplotlib.cm import ScalarMappable\n",
    "\n",
    "plt.rcParams.update({'font.size':20})\n",
    "\n",
    "\n",
    "data_normalized = [x / max(improvement_priority_top_4['mean']) for x in improvement_priority_top_7['mean']]\n",
    "\n",
    "\n",
    "my_cmap = plt.cm.get_cmap('YlGnBu')\n",
    "colors = my_cmap(data_normalized)\n",
    "\n",
    "\n",
    "fig, ax = plt.subplots(figsize =(16, 9))\n",
    "\n",
    "Question = improvement_priority_top_4['question']\n",
    "Mean = improvement_priority_top_4['mean']\n",
    "\n",
    "max_val = improvement_priority_top_4['mean'].max()\n",
    "\n",
    "col = []\n",
    "for val in Mean:\n",
    "    if val == max_val:\n",
    "        col.append('red')\n",
    "    else:\n",
    "        col.append('gray')\n",
    "\n",
    "ax.barh(Question, Mean, color = col)\n",
    "\n",
    "# Add padding between axes and labels\n",
    "ax.xaxis.set_tick_params(pad = 5)\n",
    "ax.yaxis.set_tick_params(pad = 10)\n",
    "\n",
    "# Add x, y gridlines\n",
    "ax.grid(b = True, color ='grey',\n",
    "        linestyle ='-.', linewidth = 0.5,\n",
    "        alpha = 0.2)\n",
    " \n",
    "# Show top values\n",
    "ax.invert_yaxis()\n",
    " \n",
    "# Add annotation to bars\n",
    "for i in ax.patches:\n",
    "    plt.text(i.get_width()+0.2, i.get_y()+0.5,\n",
    "             str(round((i.get_width()), 2)),\n",
    "             fontsize = 20, fontweight ='bold',\n",
    "             color ='grey')\n",
    " \n",
    "# Add Plot Title\n",
    "ax.set_title('Priority For Improvement',\n",
    "             loc ='left',fontsize = 20, )\n",
    " \n",
    "# Add Text watermark\n",
    "fig.text(0.9, 0.15, '', fontsize = 20,\n",
    "         color ='grey', ha ='right', va ='bottom',\n",
    "         alpha = 0.7)\n",
    "\n",
    " \n",
    "# Show Plot\n",
    "plt.show()"
   ]
  },
  {
   "cell_type": "code",
   "execution_count": null,
   "id": "ae106242",
   "metadata": {},
   "outputs": [],
   "source": [
    "data_normalized"
   ]
  },
  {
   "cell_type": "code",
   "execution_count": null,
   "id": "73026708",
   "metadata": {},
   "outputs": [],
   "source": []
  }
 ],
 "metadata": {
  "kernelspec": {
   "display_name": "Python 3 (ipykernel)",
   "language": "python",
   "name": "python3"
  },
  "language_info": {
   "codemirror_mode": {
    "name": "ipython",
    "version": 3
   },
   "file_extension": ".py",
   "mimetype": "text/x-python",
   "name": "python",
   "nbconvert_exporter": "python",
   "pygments_lexer": "ipython3",
   "version": "3.9.7"
  }
 },
 "nbformat": 4,
 "nbformat_minor": 5
}
